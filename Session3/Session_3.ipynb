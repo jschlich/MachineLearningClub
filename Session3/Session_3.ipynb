{
 "cells": [
  {
   "cell_type": "markdown",
   "metadata": {},
   "source": [
    "# Open Cloud Institute ML Club: Session 3\n"
   ]
  },
  {
   "cell_type": "markdown",
   "metadata": {
    "collapsed": true
   },
   "source": [
    "## Reading List\n",
    "\n",
    "1. Good source of information: https://github.com/josephmisiti/awesome-machine-learning\n",
    "2. ML pattern classification: https://github.com/rasbt/pattern_classification\n",
    "3. Great RNN discussion: https://ayearofai.com/rohan-lenny-3-recurrent-neural-networks-10300100899b\n",
    "4. Great source of DL information: https://github.com/ChristosChristofidis/awesome-deep-learning\n",
    "5. If you want some basic Data Analytics info using Python: https://github.com/wesm/pydata-book\n",
    "6. Image processing library that Ali mentioned: http://dlib.net/imaging.html\n",
    "7. Adding one more link for python (Session 1): http://docs.python-guide.org/en/latest/\n",
    "8. Tensorflow Programmer's Guide (check the 'Reading Data' section): https://www.tensorflow.org/programmers_guide/\n",
    "9. MXNET notes on data loaders for deep learning (pretty cool): http://mxnet.io/architecture/note_data_loading.html\n"
   ]
  },
  {
   "cell_type": "markdown",
   "metadata": {},
   "source": [
    "Please use the Slack channel for discussion or use email to reach us."
   ]
  },
  {
   "cell_type": "markdown",
   "metadata": {},
   "source": [
    "Details on your project may be submitted in the next session."
   ]
  }
 ],
 "metadata": {
  "kernelspec": {
   "display_name": "Python 2",
   "language": "python",
   "name": "python2"
  },
  "language_info": {
   "codemirror_mode": {
    "name": "ipython",
    "version": 2
   },
   "file_extension": ".py",
   "mimetype": "text/x-python",
   "name": "python",
   "nbconvert_exporter": "python",
   "pygments_lexer": "ipython2",
   "version": "2.7.10"
  }
 },
 "nbformat": 4,
 "nbformat_minor": 2
}
